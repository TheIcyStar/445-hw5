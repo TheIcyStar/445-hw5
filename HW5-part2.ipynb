{
 "cells": [
  {
   "cell_type": "code",
   "execution_count": 6,
   "id": "7cd1329f",
   "metadata": {},
   "outputs": [],
   "source": [
    "import pandas as pd\n",
    "import math\n",
    "import random"
   ]
  },
  {
   "cell_type": "markdown",
   "id": "2c0a623f",
   "metadata": {},
   "source": [
    "# Data & initial values"
   ]
  },
  {
   "cell_type": "code",
   "execution_count": 7,
   "id": "eacd2578",
   "metadata": {},
   "outputs": [
    {
     "name": "stdout",
     "output_type": "stream",
     "text": [
      "Training data:\n",
      "   I_1  I_2  I_3  D\n",
      "0    1    1    0  0\n",
      "1    0    1    0  0\n",
      "2    0    1    1  1\n",
      "\n",
      "Testing data:\n",
      "   I_1  I_2  I_3\n",
      "0    1    0    0\n",
      "1    0    0    1\n"
     ]
    }
   ],
   "source": [
    "train_data = pd.DataFrame({\n",
    "    \"I_1\": [1,0,0],\n",
    "    \"I_2\": [1,1,1],\n",
    "    \"I_3\": [0,0,1],\n",
    "    \"D\":   [0,0,1]\n",
    "})\n",
    "test_data = pd.DataFrame({\n",
    "    \"I_1\": [1,0],\n",
    "    \"I_2\": [0,0],\n",
    "    \"I_3\": [0,1]\n",
    "})\n",
    "\n",
    "weights = [0.3, 0.1, 0.3]\n",
    "learning_rate = 0.01\n",
    "threshold = 0.42 # prediction threshold\n",
    "epochs = random.randint(5,10)\n",
    "\n",
    "print(\"Training data:\")\n",
    "print(train_data)\n",
    "\n",
    "print(\"\\nTesting data:\")\n",
    "print(test_data)"
   ]
  },
  {
   "cell_type": "markdown",
   "id": "dff9c807",
   "metadata": {},
   "source": [
    "# Training Helper functions\n",
    "**Forward pass:**\\\n",
    "$u = I_1 W_1 + I_2 W_2 + ... + I_n W_n$\\\n",
    "$f(u) = \\frac{1}{1+e^{-u}}$\\\n",
    "where $I_1, I_2, ... , I_n$ are the inputs for that row\n",
    "\n",
    "**Backward pass:**\\\n",
    "$\\delta = f(u) \\cdot (1-f(u)) \\cdot (d_n - f(u))$\\\n",
    "where $d_n$ is the actual value for that row"
   ]
  },
  {
   "cell_type": "code",
   "execution_count": 8,
   "id": "56415aed",
   "metadata": {},
   "outputs": [],
   "source": [
    "# Training functions\n",
    "def forward(inputs, weights):\n",
    "    \"\"\"\n",
    "    Performs a forward pass using inputs, the weights, and a sigmoid activation function\n",
    "\n",
    "    Args:\n",
    "        inputs (list of float): Input data\n",
    "        weights (list of float): Weights ⚠️ Must be same length as inputs\n",
    "\n",
    "    Returns:\n",
    "        float: Activated output\n",
    "    \"\"\"\n",
    "    sum = 0\n",
    "    for (data, weight) in zip(inputs, weights):\n",
    "        sum += data * weight\n",
    "\n",
    "    # Activation\n",
    "    f = 1/(1 + math.exp(-sum))\n",
    "\n",
    "    return f\n",
    "\n",
    "def backward(activation, actual):\n",
    "    \"\"\"\n",
    "    Performs a backward pass to get delta based on the activation (f) and actual data (d)\n",
    "    \"\"\"\n",
    "\n",
    "    return activation*(1-activation)*(actual - activation)\n",
    "\n"
   ]
  },
  {
   "cell_type": "markdown",
   "id": "6d464fd2",
   "metadata": {},
   "source": [
    "# Training\n",
    "$W'_n = W_n - \\eta \\cdot \\delta \\cdot I_n $\\\n",
    "where $\\eta$ is the learning rate"
   ]
  },
  {
   "cell_type": "code",
   "execution_count": 9,
   "id": "64afaed7",
   "metadata": {},
   "outputs": [
    {
     "name": "stdout",
     "output_type": "stream",
     "text": [
      "Weights after epoch 1: [0.3014384114368487, 0.10178629726772621, 0.29903791384322287]\n",
      "Weights after epoch 2: [0.3028777637450858, 0.10357516119629698, 0.2980764620155537]\n",
      "Weights after epoch 3: [0.30431804775852617, 0.10536658415332344, 0.2971156470214078]\n",
      "Weights after epoch 4: [0.3057592542593427, 0.1071605584298978, 0.296155471361086]\n",
      "Weights after epoch 5: [0.3072013739784043, 0.10895707624080332, 0.29519593753069745]\n",
      "Weights after epoch 6: [0.3086443975956205, 0.11075612972473187, 0.294237048022082]\n",
      "Weights after epoch 7: [0.31008831574029255, 0.11255771094450936, 0.2932788053227326]\n",
      "Weights after epoch 8: [0.31153311899147107, 0.11436181188732898, 0.2923212119157178]\n",
      "Weights after epoch 9: [0.3129787978783203, 0.11616842446499198, 0.29136427027960415]\n",
      "Weights after epoch 10: [0.3144253428804887, 0.11797754051415642, 0.29040798288837866]\n"
     ]
    }
   ],
   "source": [
    "for epoch in range(0,epochs):\n",
    "    for index, row in train_data.iterrows():\n",
    "        row = row.tolist()\n",
    "\n",
    "        activation = forward(row[:-1], weights)\n",
    "        delta = backward(activation, row[-1:][0])\n",
    "\n",
    "        for weight_index, weight in enumerate(weights):\n",
    "            weights[weight_index] = weight - learning_rate * delta * row[weight_index]\n",
    "\n",
    "    print(f\"Weights after epoch {epoch+1}: {weights}\")\n"
   ]
  },
  {
   "cell_type": "markdown",
   "id": "4b66637c",
   "metadata": {},
   "source": [
    "# Testing"
   ]
  },
  {
   "cell_type": "code",
   "execution_count": 10,
   "id": "4bedd1b6",
   "metadata": {},
   "outputs": [
    {
     "name": "stdout",
     "output_type": "stream",
     "text": [
      "Prediction for test data 1: 1\n",
      "Prediction for test data 2: 1\n"
     ]
    }
   ],
   "source": [
    "for index, row in test_data.iterrows():\n",
    "    prediction = 1 if forward(row.tolist(), weights) >= threshold else 0\n",
    "    print(f\"Prediction for test data {index + 1}: {prediction}\")"
   ]
  }
 ],
 "metadata": {
  "kernelspec": {
   "display_name": ".venv",
   "language": "python",
   "name": "python3"
  },
  "language_info": {
   "codemirror_mode": {
    "name": "ipython",
    "version": 3
   },
   "file_extension": ".py",
   "mimetype": "text/x-python",
   "name": "python",
   "nbconvert_exporter": "python",
   "pygments_lexer": "ipython3",
   "version": "3.12.3"
  }
 },
 "nbformat": 4,
 "nbformat_minor": 5
}
